{
  "nbformat": 4,
  "nbformat_minor": 0,
  "metadata": {
    "colab": {
      "name": "PyPoll.ipynb",
      "provenance": [],
      "authorship_tag": "ABX9TyPzmlq4DdOStFqzHcEPXUaL",
      "include_colab_link": true
    },
    "kernelspec": {
      "name": "python3",
      "display_name": "Python 3"
    }
  },
  "cells": [
    {
      "cell_type": "markdown",
      "metadata": {
        "id": "view-in-github",
        "colab_type": "text"
      },
      "source": [
        "<a href=\"https://colab.research.google.com/github/pleyba/Election_Analysis/blob/master/PyPoll.ipynb\" target=\"_parent\"><img src=\"https://colab.research.google.com/assets/colab-badge.svg\" alt=\"Open In Colab\"/></a>"
      ]
    },
    {
      "cell_type": "markdown",
      "metadata": {
        "id": "FnaSrCjxhd_5",
        "colab_type": "text"
      },
      "source": [
        "# Import and Inspect the Data\n",
        "1. Total number of votes cast\n",
        "2. A complete list of candidates who received votes\n",
        "3. Total number of votes each candidate received\n",
        "4. Percentage of votes each candidate won\n",
        "5. The winner of the election based on popular vote"
      ]
    },
    {
      "cell_type": "code",
      "metadata": {
        "id": "RD_jppR_7AYD",
        "colab_type": "code",
        "colab": {
          "base_uri": "https://localhost:8080/",
          "height": 35
        },
        "outputId": "8cca17d1-1cf1-44e4-ebe2-e433339b2022"
      },
      "source": [
        "\n",
        "# A1. import modules\n",
        "import csv\n",
        "import os\n",
        "# Assign a variable for the file to load and the path.\n",
        "file_to_load = os.path.join(\"Resources\", \"election_results.csv\")\n",
        "# Create a filename variable to a direct or indirect path to the file.\n",
        "file_to_save = os.path.join(\"analysis\", \"election_analysis.txt\")\n",
        "# 1. Read the data file.\n",
        "with open(file_to_load) as election_data:\n",
        "    # Read the file object with the reader function.\n",
        "    file_reader = csv.reader(election_data)\n",
        "\n",
        "    # Print the header row.\n",
        "    headers = next(file_reader)\n",
        "    print(headers)\n",
        "\n",
        "    # To do: perform analysis.\n",
        "#    print(election_data)\n",
        "\n",
        "# 1a. The total number of votes cast\n",
        "\n",
        "# 2. Write down the names of all the candidates.\n",
        "\n",
        "# 3. Add a vote count for each candidate.\n",
        "\n",
        "# 4. Get the total votes for each candidate.\n",
        "\n",
        "# 5. Get the total votes cast for the election.\n",
        "\n",
        "\n",
        "\n",
        "# Using the with statement open the file as a text file.\n",
        "#with open(file_to_save, \"w\") as txt_file:\n",
        "\n",
        "     # Write three counties to the file.\n",
        "     #txt_file.write(\"Arapahoe, \")\n",
        "     #txt_file.write(\"Denver, \")\n",
        "     #txt_file.write(\"Jefferson\")\n"
      ],
      "execution_count": null,
      "outputs": [
        {
          "output_type": "stream",
          "text": [
            "['Ballot ID', 'County', 'Candidate']\n"
          ],
          "name": "stdout"
        }
      ]
    }
  ]
}