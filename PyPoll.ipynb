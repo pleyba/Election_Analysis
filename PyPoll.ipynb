{
  "nbformat": 4,
  "nbformat_minor": 0,
  "metadata": {
    "colab": {
      "name": "PyPoll.ipynb",
      "provenance": [],
      "private_outputs": true,
      "collapsed_sections": [],
      "authorship_tag": "ABX9TyMuiG2AN0VjIQdnZmUV6Eet",
      "include_colab_link": true
    },
    "kernelspec": {
      "name": "python3",
      "display_name": "Python 3"
    }
  },
  "cells": [
    {
      "cell_type": "markdown",
      "metadata": {
        "id": "view-in-github",
        "colab_type": "text"
      },
      "source": [
        "<a href=\"https://colab.research.google.com/github/pleyba/Election_Analysis/blob/master/PyPoll.ipynb\" target=\"_parent\"><img src=\"https://colab.research.google.com/assets/colab-badge.svg\" alt=\"Open In Colab\"/></a>"
      ]
    },
    {
      "cell_type": "markdown",
      "metadata": {
        "id": "FnaSrCjxhd_5",
        "colab_type": "text"
      },
      "source": [
        "# Import and Inspect the Data\n",
        "1. Total number of votes cast\n",
        "2. A complete list of candidates who received votes\n",
        "3. Total number of votes each candidate received\n",
        "4. Percentage of votes each candidate won\n",
        "5. The winner of the election based on popular vote"
      ]
    },
    {
      "cell_type": "code",
      "metadata": {
        "id": "RD_jppR_7AYD",
        "colab_type": "code",
        "colab": {}
      },
      "source": [
        "# Add our dependencies.\n",
        "import csv\n",
        "import os\n",
        "# Assign a variable to load a file from a path.\n",
        "file_to_load = os.path.join(\"Resources\", \"election_results.csv\")\n",
        "# Assign a variable to save the file to a path.\n",
        "file_to_save = os.path.join(\"analysis\", \"election_analysis.txt\")\n",
        "\n",
        "# Initialize a total vote counter.\n",
        "total_votes = 0\n",
        "\n",
        "# Candidate options and candidate votes\n",
        "candidate_options = []\n",
        "# 1. Declare the empty dictionary.\n",
        "candidate_votes = {}\n",
        "# Winning Candidate and Winning Count Tracker\n",
        "winning_candidate = \"\"\n",
        "winning_count = 0\n",
        "winning_percentage = 0\n",
        "# Open the election results and read the file.\n",
        "with open(file_to_load) as election_data:\n",
        "    file_reader = csv.reader(election_data)\n",
        "\n",
        "    # Read the header row.\n",
        "    headers = next(file_reader)\n",
        "\n",
        "    # Print each row in the CSV file.\n",
        "    for row in file_reader:\n",
        "        # Add to the total vote count.\n",
        "        total_votes += 1\n",
        "\n",
        "        # Print the candidate name from each row.\n",
        "        candidate_name = row[2]\n",
        "\n",
        "        if candidate_name not in candidate_options:\n",
        "           # Add the candidate name to the candidate list.\n",
        "            candidate_options.append(candidate_name)\n",
        "\n",
        "            # Begin tracking that candidate's vote count.\n",
        "            candidate_votes[candidate_name] = 0\n",
        "\n",
        "            # Add a vote to that candidate's count.\n",
        "        candidate_votes[candidate_name] += 1\n",
        "    # Determine winning vote count and candidate\n",
        "    # 1. Determine if the votes are greater than the winning count.\n",
        "    if (votes > winning_count) and (vote_percentage > winning_percentage):\n",
        "        # 2. If true then set winning_count = votes and winning_percent =\n",
        "        # vote_percentage.\n",
        "        winning_count = votes\n",
        "        winning_percentage = vote_percentage\n",
        "        # 3. Set the winning_candidate equal to the candidate's name.\n",
        "        winning_candidate = candidate_name\n",
        "# Determine the percentage of votes for each candidate by looping through the counts.\n",
        "# Iterate through the candidate list.\n",
        "for candidate_name in candidate_votes:\n",
        "    # Retrieve vote count of a candidate.\n",
        "    votes = candidate_votes[candidate_name]\n",
        "    # Calculate the percentage of votes.\n",
        "    vote_percentage = float(votes) / float(total_votes) * 100\n",
        "\n",
        "    # To do: print out each candidate's name, vote count, and percentage of\n",
        "    # votes to the terminal.\n",
        "    print(f\"{candidate_name}: {vote_percentage:.1f}% ({votes:,})\\n\")#  To do: print out each candidate's name, vote count, and percentage of\n",
        "    # votes to the terminal.\n",
        "\n",
        "    # Determine winning vote count and candidate\n",
        "    # Determine if the votes is greater than the winning count.\n",
        "    if (votes > winning_count) and (vote_percentage > winning_percentage):\n",
        "         # If true then set winning_count = votes and winning_percent =\n",
        "         # vote_percentage.\n",
        "         winning_count = votes\n",
        "         winning_percentage = vote_percentage\n",
        "         # And, set the winning_candidate equal to the candidate's name.\n",
        "         winning_candidate = candidate_name\n",
        "winning_candidate_summary = (\n",
        "    f\"-------------------------\\n\"\n",
        "    f\"Winner: {winning_candidate}\\n\"\n",
        "    f\"Winning Vote Count: {winning_count:,}\\n\"\n",
        "    f\"Winning Percentage: {winning_percentage:.1f}%\\n\"\n",
        "    f\"-------------------------\\n\")\n",
        "print(winning_candidate_summary) \n"
      ],
      "execution_count": null,
      "outputs": []
    }
  ]
}