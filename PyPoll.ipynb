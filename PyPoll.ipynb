{
  "nbformat": 4,
  "nbformat_minor": 0,
  "metadata": {
    "colab": {
      "name": "PyPoll.ipynb",
      "provenance": [],
      "collapsed_sections": [],
      "authorship_tag": "ABX9TyOZETztk2Uu+2DJObqF+mEb",
      "include_colab_link": true
    },
    "kernelspec": {
      "name": "python3",
      "display_name": "Python 3"
    }
  },
  "cells": [
    {
      "cell_type": "markdown",
      "metadata": {
        "id": "view-in-github",
        "colab_type": "text"
      },
      "source": [
        "<a href=\"https://colab.research.google.com/github/pleyba/Election_Analysis/blob/master/PyPoll.ipynb\" target=\"_parent\"><img src=\"https://colab.research.google.com/assets/colab-badge.svg\" alt=\"Open In Colab\"/></a>"
      ]
    },
    {
      "cell_type": "markdown",
      "metadata": {
        "id": "FnaSrCjxhd_5",
        "colab_type": "text"
      },
      "source": [
        "# Import and Inspect the Data\n",
        "1. Total number of votes cast\n",
        "2. A complete list of candidates who received votes\n",
        "3. Total number of votes each candidate received\n",
        "4. Percentage of votes each candidate won\n",
        "5. The winner of the election based on popular vote"
      ]
    },
    {
      "cell_type": "code",
      "metadata": {
        "id": "RD_jppR_7AYD",
        "colab_type": "code",
        "colab": {
          "base_uri": "https://localhost:8080/",
          "height": 35
        },
        "outputId": "fe94b069-5f1d-4bbf-9256-81ccc4566f9c"
      },
      "source": [
        "# Add our dependencies.\n",
        "import csv\n",
        "import os\n",
        "# Assign a variable to load a file from a path.\n",
        "file_to_load = os.path.join(\"Resources\", \"election_results.csv\")\n",
        "# Assign a variable to save the file to a path.\n",
        "file_to_save = os.path.join(\"analysis\", \"election_analysis.txt\")\n",
        "\n",
        "# 1. Initialize a total vote counter.\n",
        "total_votes = 0\n",
        "\n",
        "# Open the election results and read the file\n",
        "with open(file_to_load) as election_data:\n",
        "    file_reader = csv.reader(election_data)\n",
        "\n",
        "    # Read the header row.\n",
        "    headers = next(file_reader)\n",
        "\n",
        "    # Print each row in the CSV file.\n",
        "    for row in file_reader:\n",
        "        # 2. Add to the total vote count.\n",
        "        total_votes += 1\n",
        "\n",
        "# 3. Print the total votes.\n",
        "print(total_votes)\n",
        "# Using the with statement open the file as a text file.\n",
        "#with open(file_to_save, \"w\") as txt_file:\n",
        "\n",
        "     # Write three counties to the file.\n",
        "     #txt_file.write(\"Arapahoe, \")\n",
        "     #txt_file.write(\"Denver, \")\n",
        "     #txt_file.write(\"Jefferson\")\n"
      ],
      "execution_count": 1,
      "outputs": [
        {
          "output_type": "stream",
          "text": [
            "369711\n"
          ],
          "name": "stdout"
        }
      ]
    }
  ]
}