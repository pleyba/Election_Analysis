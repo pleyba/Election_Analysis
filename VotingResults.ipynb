{
  "nbformat": 4,
  "nbformat_minor": 0,
  "metadata": {
    "colab": {
      "name": "VotingResults.ipynb",
      "provenance": [],
      "toc_visible": true,
      "mount_file_id": "1IkdaXnC6k92dCh_vTyjiXNKM0d4BvL-R",
      "authorship_tag": "ABX9TyOeJUxeCYsk4xKdQJpsjsJp"
    },
    "kernelspec": {
      "name": "python3",
      "display_name": "Python 3"
    }
  },
  "cells": [
    {
      "cell_type": "markdown",
      "metadata": {
        "id": "UKI8QPAQ7R0e",
        "colab_type": "text"
      },
      "source": [
        "# 3.2.8 Logical Operators"
      ]
    },
    {
      "cell_type": "code",
      "metadata": {
        "id": "RBOqDxWmoLmw",
        "colab_type": "code",
        "colab": {}
      },
      "source": [
        "# How many votes did you get?\n",
        "my_votes = int(input(\"How many votes did you get in the election? \"))\n",
        "#  Total votes in the election\n",
        "total_votes = int(input(\"What is the total votes in the election? \"))\n",
        "# Calculate the percentage of votes you received.\n",
        "percentage_votes = (my_votes / total_votes) * 100\n",
        "print(\"I received \" + str(percentage_votes)+\"% of the total votes.\")"
      ],
      "execution_count": null,
      "outputs": []
    },
    {
      "cell_type": "markdown",
      "metadata": {
        "id": "S2tFix5jqkxM",
        "colab_type": "text"
      },
      "source": [
        "If"
      ]
    },
    {
      "cell_type": "code",
      "metadata": {
        "id": "zVyxSppCphun",
        "colab_type": "code",
        "colab": {}
      },
      "source": [
        "counties = [\"Arapahoe\",\"Denver\",\"Jefferson\"]\n",
        "if counties[1] == 'Denver':\n",
        "    print(counties[1])"
      ],
      "execution_count": null,
      "outputs": []
    },
    {
      "cell_type": "markdown",
      "metadata": {
        "id": "-zlIRRKRqew8",
        "colab_type": "text"
      },
      "source": [
        "If Else"
      ]
    },
    {
      "cell_type": "code",
      "metadata": {
        "id": "8MOSCJ5xqOHM",
        "colab_type": "code",
        "colab": {}
      },
      "source": [
        "temperature = int(input(\"What is the temperature outside? \"))\n",
        "\n",
        "if temperature > 80:\n",
        "    print(\"Turn on the AC.\")\n",
        "else:\n",
        "    print(\"Open the windows.\")"
      ],
      "execution_count": null,
      "outputs": []
    },
    {
      "cell_type": "markdown",
      "metadata": {
        "id": "zLqwkv2cqhxP",
        "colab_type": "text"
      },
      "source": [
        "Nested If Else"
      ]
    },
    {
      "cell_type": "code",
      "metadata": {
        "id": "8gMdfRZaqc9v",
        "colab_type": "code",
        "colab": {}
      },
      "source": [
        "#What is the score?\n",
        "score = int(input(\"What is your test score? \"))\n",
        "\n",
        "# Determine the grade.\n",
        "if score >= 90:\n",
        "    print('Your grade is an A.')\n",
        "else:\n",
        "    if score >= 80:\n",
        "        print('Your grade is a B.')\n",
        "    else:\n",
        "        if score >= 70:\n",
        "            print('Your grade is a C.')\n",
        "        else:\n",
        "            if score >= 60:\n",
        "                print('Your grade is a D.')\n",
        "            else:\n",
        "                print('Your grade is an F.')"
      ],
      "execution_count": null,
      "outputs": []
    },
    {
      "cell_type": "markdown",
      "metadata": {
        "id": "WoeSZn_frUqJ",
        "colab_type": "text"
      },
      "source": [
        "If Elif Else"
      ]
    },
    {
      "cell_type": "code",
      "metadata": {
        "id": "VqGQ9D6OrC7I",
        "colab_type": "code",
        "colab": {}
      },
      "source": [
        "# What is the score?\n",
        "score = int(input(\"What is your test score? \"))\n",
        "\n",
        "# Determine the grade.\n",
        "if score >= 90:\n",
        "    print('Your grade is an A.')\n",
        "elif score >= 80:\n",
        "    print('Your grade is a B.')\n",
        "elif score >= 70:\n",
        "    print('Your grade is a C.')\n",
        "elif score >= 60:\n",
        "    print('Your grade is a D.')\n",
        "else:\n",
        "    print('Your grade is an F.')"
      ],
      "execution_count": null,
      "outputs": []
    },
    {
      "cell_type": "markdown",
      "metadata": {
        "id": "8OweLs_c8MZM",
        "colab_type": "text"
      },
      "source": [
        "# 3.2.9 Membership and Logical Operators"
      ]
    },
    {
      "cell_type": "code",
      "metadata": {
        "id": "711bs7QQr_fw",
        "colab_type": "code",
        "colab": {}
      },
      "source": [
        "counties = [\"Arapahoe\",\"Denver\",\"Jefferson\"]\n",
        "if \"El Paso\" in counties:\n",
        "    print(\"El Paso is in the list of counties.\")\n",
        "else:\n",
        "    print(\"El Paso is not the list of counties.\")"
      ],
      "execution_count": null,
      "outputs": []
    },
    {
      "cell_type": "markdown",
      "metadata": {
        "id": "JgJWbC75tOpT",
        "colab_type": "text"
      },
      "source": [
        "Logical Operators (and, or, not)"
      ]
    },
    {
      "cell_type": "code",
      "metadata": {
        "id": "aDgV2LGgtT4C",
        "colab_type": "code",
        "colab": {}
      },
      "source": [
        "if \"Arapahoe\" in counties and \"El Paso\" in counties:\n",
        "    print(\"Arapahoe and El Paso are in the list of counties.\")\n",
        "else:\n",
        "    print(\"Arapahoe or El Paso is not in the list of counties.\")"
      ],
      "execution_count": null,
      "outputs": []
    },
    {
      "cell_type": "code",
      "metadata": {
        "id": "uXI3GlKet1kP",
        "colab_type": "code",
        "colab": {}
      },
      "source": [
        "if \"Arapahoe\" in counties or \"El Paso\" in counties:\n",
        "    print(\"Arapahoe or El Paso is in the list of counties.\")\n",
        "else:\n",
        "    print(\"Arapahoe and El Paso are not in the list of counties.\")"
      ],
      "execution_count": null,
      "outputs": []
    },
    {
      "cell_type": "code",
      "metadata": {
        "id": "fXXJQzZ4uEsU",
        "colab_type": "code",
        "colab": {}
      },
      "source": [
        "if \"Arapahoe\" in counties and \"El Paso\" not in counties:\n",
        "   print(\"Only Arapahoe is in the list of counties.\")\n",
        "else:\n",
        "    print(\"Arapahoe is in the list of counties and El Paso is not in the list of counties.\")"
      ],
      "execution_count": null,
      "outputs": []
    },
    {
      "cell_type": "markdown",
      "metadata": {
        "id": "3xqyfrbk7Xqq",
        "colab_type": "text"
      },
      "source": [
        "# 3.2.10 Repetition Statements\n"
      ]
    },
    {
      "cell_type": "markdown",
      "metadata": {
        "id": "1TCdK5I8u5eH",
        "colab_type": "text"
      },
      "source": [
        "While Loops"
      ]
    },
    {
      "cell_type": "code",
      "metadata": {
        "id": "2PFv2jABufGM",
        "colab_type": "code",
        "colab": {}
      },
      "source": [
        "x = 0\n",
        "while x <= 5:\n",
        "    print(x)\n",
        "    x = x + 1"
      ],
      "execution_count": null,
      "outputs": []
    },
    {
      "cell_type": "markdown",
      "metadata": {
        "id": "yueuVVsIvdEf",
        "colab_type": "text"
      },
      "source": [
        "For Loops"
      ]
    },
    {
      "cell_type": "code",
      "metadata": {
        "id": "TgPJVhRmvgQj",
        "colab_type": "code",
        "colab": {}
      },
      "source": [
        "counties = [\"Arapahoe\",\"Denver\",\"Jefferson\"]\n",
        "for county in counties:\n",
        "    print(county)"
      ],
      "execution_count": null,
      "outputs": []
    },
    {
      "cell_type": "code",
      "metadata": {
        "id": "aVNhs_ZRwjms",
        "colab_type": "code",
        "colab": {}
      },
      "source": [
        "numbers = [0, 1, 2, 3, 4]\n",
        "for num in numbers:\n",
        "    print(num)"
      ],
      "execution_count": null,
      "outputs": []
    },
    {
      "cell_type": "markdown",
      "metadata": {
        "id": "NX7L0ikdwxD7",
        "colab_type": "text"
      },
      "source": [
        "Using Range"
      ]
    },
    {
      "cell_type": "code",
      "metadata": {
        "id": "Xtb5cvB7w0tG",
        "colab_type": "code",
        "colab": {}
      },
      "source": [
        "for num in range(5):\n",
        "    print(num)"
      ],
      "execution_count": null,
      "outputs": []
    },
    {
      "cell_type": "code",
      "metadata": {
        "id": "venk2eaJxFn6",
        "colab_type": "code",
        "colab": {}
      },
      "source": [
        "for i in range(len(counties)):\n",
        "    print(counties[i])"
      ],
      "execution_count": null,
      "outputs": []
    },
    {
      "cell_type": "markdown",
      "metadata": {
        "id": "dhFPZnMLyo3s",
        "colab_type": "text"
      },
      "source": [
        "Iterate Through a Tuple"
      ]
    },
    {
      "cell_type": "code",
      "metadata": {
        "id": "N-_JcIgbx_X4",
        "colab_type": "code",
        "colab": {}
      },
      "source": [
        "counties_tuple = (\"Arapahoe\",\"Denver\",\"Jefferson\")\n",
        "for county in counties_tuple:\n",
        "      print(county)"
      ],
      "execution_count": null,
      "outputs": []
    },
    {
      "cell_type": "code",
      "metadata": {
        "id": "DMTglEMTzDpf",
        "colab_type": "code",
        "colab": {}
      },
      "source": [
        "for i in range(len(counties_tuple)):\n",
        "      print(counties_tuple[i])"
      ],
      "execution_count": null,
      "outputs": []
    },
    {
      "cell_type": "markdown",
      "metadata": {
        "id": "rSoBmpBEyt3g",
        "colab_type": "text"
      },
      "source": [
        "Iterate Through a Dictionary"
      ]
    },
    {
      "cell_type": "code",
      "metadata": {
        "id": "8Nu8lEoQyw2X",
        "colab_type": "code",
        "colab": {}
      },
      "source": [
        "counties_dict = {\"Arapahoe\": 422829, \"Denver\": 463353, \"Jefferson\": 432438}\n",
        "for county in counties_dict:\n",
        "    print(county)"
      ],
      "execution_count": null,
      "outputs": []
    },
    {
      "cell_type": "code",
      "metadata": {
        "id": "49yyQ5kNzN17",
        "colab_type": "code",
        "colab": {}
      },
      "source": [
        "for county in counties_dict.keys():\n",
        "    print(county)"
      ],
      "execution_count": null,
      "outputs": []
    },
    {
      "cell_type": "code",
      "metadata": {
        "id": "zjXj-sZCzeX-",
        "colab_type": "code",
        "colab": {}
      },
      "source": [
        "for voters in counties_dict.values():\n",
        "    print(voters)"
      ],
      "execution_count": null,
      "outputs": []
    },
    {
      "cell_type": "code",
      "metadata": {
        "id": "99OP9KLFz5v3",
        "colab_type": "code",
        "colab": {}
      },
      "source": [
        "for county in counties_dict:\n",
        "    print(counties_dict[county])"
      ],
      "execution_count": null,
      "outputs": []
    },
    {
      "cell_type": "code",
      "metadata": {
        "id": "G2WI9xhj1FwC",
        "colab_type": "code",
        "colab": {}
      },
      "source": [
        "for county in counties_dict:\n",
        "    print(counties_dict.get(county))"
      ],
      "execution_count": null,
      "outputs": []
    },
    {
      "cell_type": "code",
      "metadata": {
        "id": "t37DN7eb1fns",
        "colab_type": "code",
        "colab": {}
      },
      "source": [
        "for county, voters in counties_dict.items():\n",
        "    print(str(county) + \" County has\",str(voters)+ \" Registered Voters.\")"
      ],
      "execution_count": null,
      "outputs": []
    },
    {
      "cell_type": "markdown",
      "metadata": {
        "id": "60SaP7lZ33yR",
        "colab_type": "text"
      },
      "source": [
        "Iterate Through a List of Dictionaries"
      ]
    },
    {
      "cell_type": "code",
      "metadata": {
        "id": "XJwbOoGA37lf",
        "colab_type": "code",
        "colab": {}
      },
      "source": [
        "voting_data = [{\"county\":\"Arapahoe\", \"registered_voters\": 422829},\n",
        "                {\"county\":\"Denver\", \"registered_voters\": 463353},\n",
        "                {\"county\":\"Jefferson\", \"registered_voters\": 432438}]\n",
        "\n",
        "for county_dict in voting_data:\n",
        "    print(county_dict)"
      ],
      "execution_count": null,
      "outputs": []
    },
    {
      "cell_type": "code",
      "metadata": {
        "id": "5oKvC7ed4WkE",
        "colab_type": "code",
        "colab": {}
      },
      "source": [
        "for i in range(len(voting_data)):\n",
        "\n",
        "      print(voting_data[i])"
      ],
      "execution_count": null,
      "outputs": []
    },
    {
      "cell_type": "code",
      "metadata": {
        "id": "GoXffG-V4d8J",
        "colab_type": "code",
        "colab": {}
      },
      "source": [
        "for county_dict in voting_data:\n",
        "    for value in county_dict.values():\n",
        "        print(value)"
      ],
      "execution_count": null,
      "outputs": []
    },
    {
      "cell_type": "code",
      "metadata": {
        "id": "_ETGPngw5Ur-",
        "colab_type": "code",
        "colab": {}
      },
      "source": [
        "for county_dict in voting_data:  \n",
        "\n",
        "     print(county_dict.values())"
      ],
      "execution_count": null,
      "outputs": []
    },
    {
      "cell_type": "code",
      "metadata": {
        "id": "M1klWs0T5Xsg",
        "colab_type": "code",
        "colab": {}
      },
      "source": [
        "for county_dict in voting_data:\n",
        "\n",
        "     print(county_dict['registered_voters'])"
      ],
      "execution_count": null,
      "outputs": []
    },
    {
      "cell_type": "code",
      "metadata": {
        "id": "PdbNsqKn5kUW",
        "colab_type": "code",
        "colab": {}
      },
      "source": [
        "for county_dict in voting_data:\n",
        "\n",
        "     for key, value in county_dict.items():\n",
        "\n",
        "         print(value)"
      ],
      "execution_count": null,
      "outputs": []
    },
    {
      "cell_type": "code",
      "metadata": {
        "id": "yxiK6xLh588I",
        "colab_type": "code",
        "colab": {}
      },
      "source": [
        "for county_dict in voting_data:\n",
        "    print(county_dict['county'])"
      ],
      "execution_count": null,
      "outputs": []
    },
    {
      "cell_type": "markdown",
      "metadata": {
        "id": "c5O1sXOx65I8",
        "colab_type": "text"
      },
      "source": [
        "# 3.2.11 Printing Formats"
      ]
    },
    {
      "cell_type": "code",
      "metadata": {
        "id": "O_QMPYZb8t0s",
        "colab_type": "code",
        "colab": {}
      },
      "source": [
        "print(\"Arapahoe and Denver are not in the list of counties.\")"
      ],
      "execution_count": null,
      "outputs": []
    },
    {
      "cell_type": "code",
      "metadata": {
        "id": "gAGaRcGK8yrQ",
        "colab_type": "code",
        "colab": {}
      },
      "source": [
        "interest = 0.50\n",
        "print(\"Your interest for the year is $\" + str(interest))"
      ],
      "execution_count": null,
      "outputs": []
    },
    {
      "cell_type": "code",
      "metadata": {
        "id": "WtvmgjNc9GXA",
        "colab_type": "code",
        "colab": {}
      },
      "source": [
        "my_votes = int(input(\"How many votes did you get in the election? \"))\n",
        "total_votes = int(input(\"What is the total votes in the election? \"))\n",
        "percentage_votes = (my_votes / total_votes) * 100\n",
        "print(\"I received \" + str(percentage_votes)+\"% of the total votes.\")"
      ],
      "execution_count": null,
      "outputs": []
    },
    {
      "cell_type": "markdown",
      "metadata": {
        "id": "w5U4wk8D_O0j",
        "colab_type": "text"
      },
      "source": [
        "[Formatting f-string](https://www.python.org/dev/peps/pep-0498/)\n"
      ]
    },
    {
      "cell_type": "code",
      "metadata": {
        "id": "TDzL-W4K9QtZ",
        "colab_type": "code",
        "colab": {}
      },
      "source": [
        "my_votes = int(input(\"How many votes did you get in the election? \"))\n",
        "total_votes = int(input(\"What is the total votes in the election? \"))\n",
        "print(f\"I received {my_votes / total_votes * 100}% of the total votes.\")"
      ],
      "execution_count": null,
      "outputs": []
    },
    {
      "cell_type": "markdown",
      "metadata": {
        "id": "waC4jnbY9wnD",
        "colab_type": "text"
      },
      "source": [
        "f-string with dictionary"
      ]
    },
    {
      "cell_type": "code",
      "metadata": {
        "id": "UKmKbuOq9jpx",
        "colab_type": "code",
        "colab": {}
      },
      "source": [
        "for county, voters in counties_dict.items():\n",
        "    print(f\"{county} county has {voters} registered voters.\")"
      ],
      "execution_count": null,
      "outputs": []
    },
    {
      "cell_type": "markdown",
      "metadata": {
        "id": "7AZmvpr595lX",
        "colab_type": "text"
      },
      "source": [
        "Multiline f-strings"
      ]
    },
    {
      "cell_type": "code",
      "metadata": {
        "id": "7ISRfCKE9_EX",
        "colab_type": "code",
        "colab": {}
      },
      "source": [
        "candidate_votes = int(input(\"How many votes did the candidate get in the election? \"))\n",
        "total_votes = int(input(\"What is the total number of votes in the election? \"))\n",
        "message_to_candidate = (\n",
        "    f\"You received {candidate_votes} number of votes. \"\n",
        "    f\"The total number of votes in the election was {total_votes}. \"\n",
        "    f\"You received {candidate_votes / total_votes * 100}% of the total votes.\")\n",
        "\n",
        "print(message_to_candidate)"
      ],
      "execution_count": null,
      "outputs": []
    },
    {
      "cell_type": "markdown",
      "metadata": {
        "id": "li8RqE2w-Mev",
        "colab_type": "text"
      },
      "source": [
        "Format Floating-Point Decimals"
      ]
    },
    {
      "cell_type": "code",
      "metadata": {
        "id": "fCCue5Nv-RbI",
        "colab_type": "code",
        "colab": {}
      },
      "source": [
        "candidate_votes = int(input(\"How many votes did the candidate get in the election? \"))\n",
        "total_votes = int(input(\"What is the total number of votes in the election? \"))\n",
        "message_to_candidate = (\n",
        "    f\"You received {candidate_votes:,} number of votes. \"\n",
        "    f\"The total number of votes in the election was {total_votes:,}. \"\n",
        "    f\"You received {candidate_votes / total_votes * 100:.2f}% of the total votes.\")\n",
        "\n",
        "print(message_to_candidate)"
      ],
      "execution_count": null,
      "outputs": []
    },
    {
      "cell_type": "markdown",
      "metadata": {
        "id": "2S7gdH5W_8D_",
        "colab_type": "text"
      },
      "source": [
        "# 3.3.1 Import and Inspect the Data\n",
        "* Total number of votes cast\n",
        "* A complete list of candidates who received votes\n",
        "* Total number of votes each candidate received\n",
        "* Percentage of votes each candidate won\n",
        "* The winner of the election based on popular vote"
      ]
    },
    {
      "cell_type": "code",
      "metadata": {
        "id": "RD_jppR_7AYD",
        "colab_type": "code",
        "colab": {
          "base_uri": "https://localhost:8080/",
          "height": 35
        },
        "outputId": "8cca17d1-1cf1-44e4-ebe2-e433339b2022"
      },
      "source": [
        "\n",
        "# A1. import modules\n",
        "import csv\n",
        "import os\n",
        "# Assign a variable for the file to load and the path.\n",
        "file_to_load = os.path.join(\"Resources\", \"election_results.csv\")\n",
        "# Create a filename variable to a direct or indirect path to the file.\n",
        "file_to_save = os.path.join(\"analysis\", \"election_analysis.txt\")\n",
        "# 1. Read the data file.\n",
        "with open(file_to_load) as election_data:\n",
        "    # Read the file object with the reader function.\n",
        "    file_reader = csv.reader(election_data)\n",
        "\n",
        "    # Print the header row.\n",
        "    headers = next(file_reader)\n",
        "    print(headers)\n",
        "\n",
        "    # To do: perform analysis.\n",
        "#    print(election_data)\n",
        "\n",
        "# 1a. The total number of votes cast\n",
        "\n",
        "# 2. Write down the names of all the candidates.\n",
        "\n",
        "# 3. Add a vote count for each candidate.\n",
        "\n",
        "# 4. Get the total votes for each candidate.\n",
        "\n",
        "# 5. Get the total votes cast for the election.\n",
        "\n",
        "\n",
        "\n",
        "# Using the with statement open the file as a text file.\n",
        "#with open(file_to_save, \"w\") as txt_file:\n",
        "\n",
        "     # Write three counties to the file.\n",
        "     #txt_file.write(\"Arapahoe, \")\n",
        "     #txt_file.write(\"Denver, \")\n",
        "     #txt_file.write(\"Jefferson\")\n"
      ],
      "execution_count": 37,
      "outputs": [
        {
          "output_type": "stream",
          "text": [
            "['Ballot ID', 'County', 'Candidate']\n"
          ],
          "name": "stdout"
        }
      ]
    }
  ]
}